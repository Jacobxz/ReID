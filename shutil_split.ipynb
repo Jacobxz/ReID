{
 "cells": [
  {
   "cell_type": "code",
   "execution_count": null,
   "metadata": {},
   "outputs": [],
   "source": [
    "# split()：语法：str.split(str=\"\",num=string.count(str))[n]\n",
    "# 拆分字符串。通过制定分隔符将字符串进行切片，并返回分割后的字符串列表[list]\n",
    "# 参数：str：分隔符，默认为空格，但不能为空(\"\")\n",
    "# 　　　num: 表示分割次数。如果指定num，则分割成n+1个子字符串，并可将每个字符串赋给新的变量\n",
    "# 　　 [n]: 选取第n个分片，即第n个字符串，从0开始算。\n",
    "\n",
    "# Str.split()           默认以空格,换行\\n,制表符\\t分割\n",
    "# Str.split(‘字符串’)    以字符串为分割\n",
    "# Str.split(‘字符串’,2)  分割以前2次出现的字符串为分割"
   ]
  },
  {
   "cell_type": "code",
   "execution_count": 5,
   "metadata": {},
   "outputs": [
    {
     "name": "stdout",
     "output_type": "stream",
     "text": [
      "['Line1-abcdef', 'Line2-abc', 'Line4-abcd']\n",
      "['Line1-abcdef', '\\nLine2-abc \\nLine4-abcd']\n"
     ]
    }
   ],
   "source": [
    "str = \"Line1-abcdef \\nLine2-abc \\nLine4-abcd\";\n",
    "print (str.split( ));       # 以空格为分隔符，包含 \\n\n",
    "print (str.split(' ', 1 )); # 以空格为分隔符，分隔成两个"
   ]
  },
  {
   "cell_type": "code",
   "execution_count": 15,
   "metadata": {},
   "outputs": [
    {
     "name": "stdout",
     "output_type": "stream",
     "text": [
      "['Google', 'Runoob#Taobao#Facebook']\n"
     ]
    }
   ],
   "source": [
    "txt = \"Google#Runoob#Taobao#Facebook\" \n",
    "# 第二个参数为 1，返回两个参数列表\n",
    "x = txt.split(\"#\", 1)   #以 # 号为分隔符，指定第二个参数为 1，分割后是两部分，即分割1次。\n",
    "print (x); "
   ]
  },
  {
   "cell_type": "code",
   "execution_count": 43,
   "metadata": {},
   "outputs": [
    {
     "name": "stdout",
     "output_type": "stream",
     "text": [
      "['Google', 'Runoob', 'Taobao', 'Facebook']\n"
     ]
    }
   ],
   "source": [
    "txt = \"Google#Runoob#Taobao#Facebook\" \n",
    "# 第二个参数为 1，返回两个参数列表\n",
    "x = txt.split(\"#\", -1)   #全部分割\n",
    "print (x); "
   ]
  },
  {
   "cell_type": "code",
   "execution_count": 41,
   "metadata": {},
   "outputs": [
    {
     "name": "stdout",
     "output_type": "stream",
     "text": [
      "Google\n"
     ]
    }
   ],
   "source": [
    "txt = \"Google#Runoob#Taobao#Facebook\" \n",
    "# 第二个参数为 1，返回两个参数列表\n",
    "x = txt.split(\"#\", 1)[0]   #以 # 号为分隔符，指定第二个参数为 1，取第1个切片\n",
    "print (x); "
   ]
  },
  {
   "cell_type": "code",
   "execution_count": 42,
   "metadata": {},
   "outputs": [
    {
     "name": "stdout",
     "output_type": "stream",
     "text": [
      "Runoob#Taobao#Facebook\n"
     ]
    }
   ],
   "source": [
    "txt = \"Google#Runoob#Taobao#Facebook\" \n",
    "# 第二个参数为 1，返回两个参数列表\n",
    "x = txt.split(\"#\", 1)[1]   #以 # 号为分隔符，指定第二个参数为 1，取第2个切片\n",
    "print (x); "
   ]
  },
  {
   "cell_type": "code",
   "execution_count": 44,
   "metadata": {},
   "outputs": [
    {
     "name": "stdout",
     "output_type": "stream",
     "text": [
      "Runoob#Taobao#Facebook\n"
     ]
    }
   ],
   "source": [
    "txt = \"Google#Runoob#Taobao#Facebook\" \n",
    "# 第二个参数为 1，返回两个参数列表\n",
    "x = txt.split(\"#\", 1)[-1]   #以 # 号为分隔符，指定第二个参数为 1，取第倒数第1个切片\n",
    "print (x); "
   ]
  },
  {
   "cell_type": "code",
   "execution_count": null,
   "metadata": {},
   "outputs": [],
   "source": []
  },
  {
   "cell_type": "code",
   "execution_count": 20,
   "metadata": {},
   "outputs": [
    {
     "name": "stdout",
     "output_type": "stream",
     "text": [
      "str =I am is jiyanjiao 分割后的结果: ['I', 'am', 'is', 'jiyanjiao']\n"
     ]
    }
   ],
   "source": [
    "# 中间是空格\n",
    "str ='I am is jiyanjiao'\n",
    "print('str =I am is jiyanjiao 分割后的结果:',str.split())"
   ]
  },
  {
   "cell_type": "code",
   "execution_count": 19,
   "metadata": {},
   "outputs": [
    {
     "name": "stdout",
     "output_type": "stream",
     "text": [
      "str1 n/ 换行 分割后的结果: ['I', 'am', 'is', 'jiyanjiao']\n"
     ]
    }
   ],
   "source": [
    "#中间是换行符\n",
    "str1 = 'I ' \\\n",
    "       'am' \\\n",
    "       'is' \\\n",
    "       'jiyanjiao'\n",
    "print('str1 n/ 换行 分割后的结果:',str.split())"
   ]
  },
  {
   "cell_type": "code",
   "execution_count": 21,
   "metadata": {},
   "outputs": [
    {
     "name": "stdout",
     "output_type": "stream",
     "text": [
      "str2 t/ 制表符分割后的结果: ['I', 'am', 'is', 'jiyanjiao']\n"
     ]
    }
   ],
   "source": [
    "#中间是制表符\n",
    "str2='I am  is  jiyanjiao'\n",
    "print('str2 t/ 制表符分割后的结果:',str2.split())"
   ]
  },
  {
   "cell_type": "code",
   "execution_count": 22,
   "metadata": {},
   "outputs": [
    {
     "name": "stdout",
     "output_type": "stream",
     "text": [
      "str以is为分割后的结果: ['I am ', ' jiyanjiao']\n"
     ]
    }
   ],
   "source": [
    "# 以is分割\n",
    "print('str以is为分割后的结果:',str.split('is'))"
   ]
  },
  {
   "cell_type": "code",
   "execution_count": 23,
   "metadata": {},
   "outputs": [
    {
     "name": "stdout",
     "output_type": "stream",
     "text": [
      "str以字母i为分割后的结果: ['I am ', 's j', 'yanjiao']\n"
     ]
    }
   ],
   "source": [
    "#以字母i为分割\n",
    "print('str以字母i为分割后的结果:',str.split('i',2))"
   ]
  },
  {
   "cell_type": "code",
   "execution_count": 36,
   "metadata": {},
   "outputs": [
    {
     "name": "stdout",
     "output_type": "stream",
     "text": [
      "以空格来分割，并选择最后一个分片: I\n"
     ]
    }
   ],
   "source": [
    "str ='I am is jiyanjiao'\n",
    "print('以空格来分割，并选择最后一个分片:',str.split(' ',2)[0])"
   ]
  },
  {
   "cell_type": "code",
   "execution_count": 37,
   "metadata": {},
   "outputs": [
    {
     "name": "stdout",
     "output_type": "stream",
     "text": [
      "以空格来分割，并选择最后一个分片: am\n"
     ]
    }
   ],
   "source": [
    "str ='I am is jiyanjiao'\n",
    "print('以空格来分割，并选择最后一个分片:',str.split(' ',2)[1])"
   ]
  },
  {
   "cell_type": "code",
   "execution_count": 38,
   "metadata": {},
   "outputs": [
    {
     "name": "stdout",
     "output_type": "stream",
     "text": [
      "以空格来分割，并选择最后一个分片: is jiyanjiao\n"
     ]
    }
   ],
   "source": [
    "str ='I am is jiyanjiao'\n",
    "print('以空格来分割，并选择最后一个分片:',str.split(' ',2)[2])"
   ]
  },
  {
   "cell_type": "code",
   "execution_count": 39,
   "metadata": {},
   "outputs": [
    {
     "name": "stdout",
     "output_type": "stream",
     "text": [
      "以空格来分割，并选择最后一个分片: is jiyanjiao\n"
     ]
    }
   ],
   "source": [
    "str ='I am is jiyanjiao'\n",
    "print('以空格来分割，并选择最后一个分片:',str.split(' ',2)[-1])"
   ]
  },
  {
   "cell_type": "code",
   "execution_count": 48,
   "metadata": {},
   "outputs": [
    {
     "name": "stdout",
     "output_type": "stream",
     "text": [
      "copy file SUCCESS\n"
     ]
    }
   ],
   "source": [
    "import shutil\n",
    "import os\n",
    "\n",
    "\"\"\"\n",
    "#---------------------------------------------------------------------------------------\n",
    "一. os和shutil模块删除文件和文件夹\n",
    "1、os.unlink(path) 将删除path处的文件，成功删除后没有任何返回。path是一个文件的完整路径\n",
    "2、os.rmdir(path) 将删除path处的文件夹，该文件夹必须为空。其中没有任何文件和文件夹\n",
    "3、shutil.rmtree(path) 将删除path处的文件夹，它包含的所有文件和文件夹都将被删除\n",
    "#---------------------------------------------------------------------------------------\n",
    "\"\"\"\n",
    "#os.unlink(\"/home/qiang/test2.txt\")  #OK\n",
    "\n",
    "\n",
    "\"\"\" \n",
    "#---------------------------------------------------------------------------------------\n",
    "二. shutil是一种高层次的文件操作工具类似于高级API，而且主要强大之处在于其对文件的复制与删除操作更是比较支持好。\n",
    "1、shutil.copy(src,dst) 复制一个文件到另一个目录下，返回dst路径。dst可以是一个文件，或者是一个目录。但src必须是一个文件，否则会报错。\n",
    "2、shutil.copy2(src,dst) 在copy上的基础上再复制文件最后访问时间与修改时间也复制过来了\n",
    "3、shutil.copyfile(src,dst) 从源src复制到dst中去，src和dst必须是文件，不能是文件夹\n",
    "4、shutil.copystat( src, dst) 只复制权限、最后访问时间、最后修改时间，不会复制文件内容\n",
    "5、shutil.copytree(olddir,newdir,True/Flase) 把olddir拷贝一份newdir，如果第3个参数是True，则复制目录时将保持文件夹下的符号连接，如果第3个参数是False，则将在复制的目录下生成物理副本来替代符号连接。\n",
    "6、shutil.copymode(src,dst) 只复制权限\n",
    "7、shutil.move（src,dst）将路径src处的文件夹移动到路径dst，并返回新位置的绝对路径字符串。src可以是一个文件夹，也可以是一个文件。\n",
    "8、shutil.rmtree(path) 将删除path处的文件夹，它包含的所有文件和文件夹都将被删除\n",
    "#---------------------------------------------------------------------------------------\n",
    "\"\"\"\n",
    "#shutil.copy('/home/qiang/test1.txt', '/home/qiang/Test')   #OK\n",
    "\n",
    "\n",
    "\n",
    "try:\n",
    "    shutil.copy('/home/qiang/test1.txt', '/home/qiang/Test/test2.txt')\n",
    "except Exception as e:\n",
    "    print (e)\n",
    "else:\n",
    "    print (\"copy file SUCCESS\")\n",
    "\n"
   ]
  },
  {
   "cell_type": "code",
   "execution_count": 8,
   "metadata": {},
   "outputs": [],
   "source": [
    "import numpy as np\n",
    "import pandas as pd\n",
    "import matplotlib.pyplot as plt\n",
    "\n",
    "# import skimage.io as skio\n",
    "# from skimage import io\n",
    "import os\n",
    "\n",
    "# import imgaug as ia\n",
    "# from imgaug import augmenters as iaa\n",
    "\n",
    "anno_file = \"/home/qiang/test_data/train_labels.csv\"\n",
    "\n",
    "# annos = pd.read_csv(anno_file)\n",
    "# annos.drop('AB', axis=1, inplace=True)\n",
    "\n",
    "# annos_by_ID = annos.groupby(\"ID\")\n",
    "# gang_count = annos_by_ID[\" Detection\"].count()\n",
    "# fitered_results = gang_count[gang_count > 150].index.tolist()"
   ]
  },
  {
   "cell_type": "code",
   "execution_count": null,
   "metadata": {},
   "outputs": [],
   "source": []
  },
  {
   "cell_type": "code",
   "execution_count": null,
   "metadata": {},
   "outputs": [],
   "source": []
  }
 ],
 "metadata": {
  "kernelspec": {
   "display_name": "Python 3",
   "language": "python",
   "name": "python3"
  },
  "language_info": {
   "codemirror_mode": {
    "name": "ipython",
    "version": 3
   },
   "file_extension": ".py",
   "mimetype": "text/x-python",
   "name": "python",
   "nbconvert_exporter": "python",
   "pygments_lexer": "ipython3",
   "version": "3.6.7"
  }
 },
 "nbformat": 4,
 "nbformat_minor": 2
}
